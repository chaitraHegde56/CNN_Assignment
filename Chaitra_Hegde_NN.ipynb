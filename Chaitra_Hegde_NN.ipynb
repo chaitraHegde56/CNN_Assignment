{
 "cells": [
  {
   "cell_type": "code",
   "execution_count": 37,
   "id": "23edd116",
   "metadata": {},
   "outputs": [],
   "source": [
    "import pathlib\n",
    "import tensorflow as tf\n",
    "import matplotlib.pyplot as plt\n",
    "import numpy as np\n",
    "import pandas as pd\n",
    "import os\n",
    "import PIL\n",
    "from tensorflow import keras\n",
    "from tensorflow.keras import layers\n",
    "from tensorflow.keras.models import Sequential\n",
    "import warnings\n",
    "warnings.filterwarnings('ignore')"
   ]
  },
  {
   "cell_type": "code",
   "execution_count": 2,
   "id": "f9db6276",
   "metadata": {},
   "outputs": [],
   "source": [
    "data_dir_train = pathlib.Path(r\"C:\\Users\\chaih\\OneDrive\\Documents\\UpGrad\\inputs\\CNN\\CNN_assignment\\Skin cancer ISIC The International Skin Imaging Collaboration\\Train\")\n",
    "data_dir_test = pathlib.Path(r\"C:\\Users\\chaih\\OneDrive\\Documents\\UpGrad\\inputs\\CNN\\CNN_assignment\\Skin cancer ISIC The International Skin Imaging Collaboration\\Test\")"
   ]
  },
  {
   "cell_type": "code",
   "execution_count": 3,
   "id": "021ebcde",
   "metadata": {},
   "outputs": [
    {
     "name": "stdout",
     "output_type": "stream",
     "text": [
      "2239\n",
      "118\n"
     ]
    }
   ],
   "source": [
    "image_count_train = len(list(data_dir_train.glob('*/*.jpg')))\n",
    "print(image_count_train)\n",
    "image_count_test = len(list(data_dir_test.glob('*/*.jpg')))\n",
    "print(image_count_test)"
   ]
  },
  {
   "cell_type": "code",
   "execution_count": 4,
   "id": "8833565a",
   "metadata": {},
   "outputs": [],
   "source": [
    "batch_size = 32\n",
    "img_height = 180\n",
    "img_width = 180"
   ]
  },
  {
   "cell_type": "code",
   "execution_count": 5,
   "id": "68e591de",
   "metadata": {},
   "outputs": [
    {
     "name": "stdout",
     "output_type": "stream",
     "text": [
      "Found 2239 files belonging to 9 classes.\n",
      "Using 1792 files for training.\n"
     ]
    }
   ],
   "source": [
    "train_ds = tf.keras.utils.image_dataset_from_directory(\n",
    "    data_dir_train,\n",
    "    validation_split=0.2,\n",
    "    batch_size=batch_size,\n",
    "    image_size=(img_height, img_width),\n",
    "    seed=123,\n",
    "    subset=\"training\",\n",
    ")"
   ]
  },
  {
   "cell_type": "code",
   "execution_count": 6,
   "id": "479f3b28",
   "metadata": {},
   "outputs": [
    {
     "name": "stdout",
     "output_type": "stream",
     "text": [
      "Found 2239 files belonging to 9 classes.\n",
      "Using 447 files for validation.\n"
     ]
    }
   ],
   "source": [
    "val_ds = tf.keras.utils.image_dataset_from_directory(\n",
    "    data_dir_train,\n",
    "    validation_split=0.2,\n",
    "    batch_size=batch_size,\n",
    "    image_size=(img_height, img_width),\n",
    "    seed=123,\n",
    "    subset=\"validation\",\n",
    ")"
   ]
  },
  {
   "cell_type": "code",
   "execution_count": 7,
   "id": "c279e5d1",
   "metadata": {},
   "outputs": [
    {
     "name": "stdout",
     "output_type": "stream",
     "text": [
      "['actinic keratosis', 'basal cell carcinoma', 'dermatofibroma', 'melanoma', 'nevus', 'pigmented benign keratosis', 'seborrheic keratosis', 'squamous cell carcinoma', 'vascular lesion']\n"
     ]
    }
   ],
   "source": [
    "class_names = train_ds.class_names\n",
    "print(class_names)"
   ]
  },
  {
   "cell_type": "code",
   "execution_count": null,
   "id": "e8d63c21",
   "metadata": {},
   "outputs": [],
   "source": []
  },
  {
   "cell_type": "code",
   "execution_count": null,
   "id": "436b50cb",
   "metadata": {},
   "outputs": [],
   "source": []
  },
  {
   "cell_type": "code",
   "execution_count": 8,
   "id": "c2f210f7",
   "metadata": {},
   "outputs": [],
   "source": [
    "AUTOTUNE = tf.data.experimental.AUTOTUNE\n",
    "train_ds = train_ds.cache().shuffle(1000).prefetch(buffer_size=AUTOTUNE)\n",
    "val_ds = val_ds.cache().prefetch(buffer_size=AUTOTUNE)"
   ]
  },
  {
   "cell_type": "code",
   "execution_count": null,
   "id": "6f3ae499",
   "metadata": {},
   "outputs": [],
   "source": []
  },
  {
   "cell_type": "code",
   "execution_count": 9,
   "id": "3f4b2a35",
   "metadata": {},
   "outputs": [],
   "source": [
    "num_class = 9\n",
    "model1 = Sequential([\n",
    "    layers.Rescaling(scale=1./255, input_shape=(180,180,3)),\n",
    "    layers.Conv2D(16, 3, padding='same', activation='relu'),\n",
    "    layers.Conv2D(32, 3, padding='same', activation='relu'),\n",
    "    layers.Conv2D(64, 3, padding='same', activation='relu'),\n",
    "    layers.Flatten(),\n",
    "    layers.Dense(128, activation='relu'),\n",
    "    layers.Dense(num_class)\n",
    "])\n",
    "\n"
   ]
  },
  {
   "cell_type": "code",
   "execution_count": 10,
   "id": "348ffc1f",
   "metadata": {},
   "outputs": [],
   "source": [
    "model1.compile(optimizer='adam',\n",
    "              loss='sparse_categorical_crossentropy',\n",
    "              metrics=['accuracy'])"
   ]
  },
  {
   "cell_type": "code",
   "execution_count": 11,
   "id": "00c2ec37",
   "metadata": {},
   "outputs": [
    {
     "name": "stdout",
     "output_type": "stream",
     "text": [
      "Model: \"sequential\"\n",
      "_________________________________________________________________\n",
      " Layer (type)                Output Shape              Param #   \n",
      "=================================================================\n",
      " rescaling (Rescaling)       (None, 180, 180, 3)       0         \n",
      "                                                                 \n",
      " conv2d (Conv2D)             (None, 180, 180, 16)      448       \n",
      "                                                                 \n",
      " conv2d_1 (Conv2D)           (None, 180, 180, 32)      4640      \n",
      "                                                                 \n",
      " conv2d_2 (Conv2D)           (None, 180, 180, 64)      18496     \n",
      "                                                                 \n",
      " flatten (Flatten)           (None, 2073600)           0         \n",
      "                                                                 \n",
      " dense (Dense)               (None, 128)               265420928 \n",
      "                                                                 \n",
      " dense_1 (Dense)             (None, 9)                 1161      \n",
      "                                                                 \n",
      "=================================================================\n",
      "Total params: 265,445,673\n",
      "Trainable params: 265,445,673\n",
      "Non-trainable params: 0\n",
      "_________________________________________________________________\n"
     ]
    }
   ],
   "source": [
    "model1.summary()"
   ]
  },
  {
   "cell_type": "code",
   "execution_count": 12,
   "id": "03c13245",
   "metadata": {},
   "outputs": [
    {
     "name": "stdout",
     "output_type": "stream",
     "text": [
      "Epoch 1/20\n",
      "56/56 [==============================] - 107s 2s/step - loss: 8.2080 - accuracy: 0.1585 - val_loss: 7.9136 - val_accuracy: 0.1790\n",
      "Epoch 2/20\n",
      "56/56 [==============================] - 101s 2s/step - loss: 8.2312 - accuracy: 0.1546 - val_loss: 7.9136 - val_accuracy: 0.1790\n",
      "Epoch 3/20\n",
      "56/56 [==============================] - 107s 2s/step - loss: 8.2312 - accuracy: 0.1546 - val_loss: 7.9136 - val_accuracy: 0.1790\n",
      "Epoch 4/20\n",
      "56/56 [==============================] - 104s 2s/step - loss: 8.2312 - accuracy: 0.1546 - val_loss: 7.9136 - val_accuracy: 0.1790\n",
      "Epoch 5/20\n",
      "56/56 [==============================] - 105s 2s/step - loss: 8.2312 - accuracy: 0.1546 - val_loss: 7.9136 - val_accuracy: 0.1790\n",
      "Epoch 6/20\n",
      "56/56 [==============================] - 103s 2s/step - loss: 8.2312 - accuracy: 0.1546 - val_loss: 7.9136 - val_accuracy: 0.1790\n",
      "Epoch 7/20\n",
      "56/56 [==============================] - 104s 2s/step - loss: 8.2312 - accuracy: 0.1546 - val_loss: 7.9136 - val_accuracy: 0.1790\n",
      "Epoch 8/20\n",
      "56/56 [==============================] - 95s 2s/step - loss: 8.2312 - accuracy: 0.1546 - val_loss: 7.9136 - val_accuracy: 0.1790\n",
      "Epoch 9/20\n",
      "56/56 [==============================] - 94s 2s/step - loss: 8.2312 - accuracy: 0.1546 - val_loss: 7.9136 - val_accuracy: 0.1790\n",
      "Epoch 10/20\n",
      "56/56 [==============================] - 95s 2s/step - loss: 8.2312 - accuracy: 0.1546 - val_loss: 7.9136 - val_accuracy: 0.1790\n",
      "Epoch 11/20\n",
      "56/56 [==============================] - 97s 2s/step - loss: 8.2312 - accuracy: 0.1546 - val_loss: 7.9136 - val_accuracy: 0.1790\n",
      "Epoch 12/20\n",
      "56/56 [==============================] - 97s 2s/step - loss: 8.2312 - accuracy: 0.1546 - val_loss: 7.9136 - val_accuracy: 0.1790\n",
      "Epoch 13/20\n",
      "56/56 [==============================] - 98s 2s/step - loss: 8.2312 - accuracy: 0.1546 - val_loss: 7.9136 - val_accuracy: 0.1790\n",
      "Epoch 14/20\n",
      "56/56 [==============================] - 98s 2s/step - loss: 8.2312 - accuracy: 0.1546 - val_loss: 7.9136 - val_accuracy: 0.1790\n",
      "Epoch 15/20\n",
      "56/56 [==============================] - 97s 2s/step - loss: 8.2312 - accuracy: 0.1546 - val_loss: 7.9136 - val_accuracy: 0.1790\n",
      "Epoch 16/20\n",
      "56/56 [==============================] - 95s 2s/step - loss: 8.2312 - accuracy: 0.1546 - val_loss: 7.9136 - val_accuracy: 0.1790\n",
      "Epoch 17/20\n",
      "56/56 [==============================] - 95s 2s/step - loss: 8.2312 - accuracy: 0.1546 - val_loss: 7.9136 - val_accuracy: 0.1790\n",
      "Epoch 18/20\n",
      "56/56 [==============================] - 95s 2s/step - loss: 8.2312 - accuracy: 0.1546 - val_loss: 7.9136 - val_accuracy: 0.1790\n",
      "Epoch 19/20\n",
      "56/56 [==============================] - 95s 2s/step - loss: 8.2312 - accuracy: 0.1546 - val_loss: 7.9136 - val_accuracy: 0.1790\n",
      "Epoch 20/20\n",
      "56/56 [==============================] - 7817s 142s/step - loss: 8.2312 - accuracy: 0.1546 - val_loss: 7.9136 - val_accuracy: 0.1790\n"
     ]
    }
   ],
   "source": [
    "epochs = 20\n",
    "history = model1.fit(\n",
    "    train_ds,\n",
    "    validation_data=val_ds,\n",
    "    epochs=epochs)"
   ]
  },
  {
   "cell_type": "code",
   "execution_count": 14,
   "id": "12e2ef90",
   "metadata": {},
   "outputs": [
    {
     "data": {
      "image/png": "[encoded data removed]",
      "text/plain": [
       "<Figure size 576x576 with 2 Axes>"
      ]
     },
     "metadata": {
      "needs_background": "light"
     },
     "output_type": "display_data"
    }
   ],
   "source": [
    "acc = hostory.history['accuracy']\n",
    "val_acc = hostory.history['val_accuracy']\n",
    "\n",
    "loss = hostory.history['loss']\n",
    "val_loss = hostory.history['val_loss']\n",
    "\n",
    "epochs_range = range(epochs)\n",
    "\n",
    "plt.figure(figsize=(8, 8))\n",
    "plt.subplot(1, 2, 1)\n",
    "plt.plot(epochs_range, acc, label='Training Accuracy')\n",
    "plt.plot(epochs_range, val_acc, label='Validation Accuracy')\n",
    "plt.legend(loc='lower right')\n",
    "plt.title('Training and Validation Accuracy')\n",
    "\n",
    "plt.subplot(1, 2, 2)\n",
    "plt.plot(epochs_range, loss, label='Training Loss')\n",
    "plt.plot(epochs_range, val_loss, label='Validation Loss')\n",
    "plt.legend(loc='upper right')\n",
    "plt.title('Training and Validation Loss')\n",
    "plt.show()"
   ]
  },
  {
   "cell_type": "code",
   "execution_count": 20,
   "id": "74ab3a5c",
   "metadata": {},
   "outputs": [],
   "source": [
    "data_augmentation = Sequential([\n",
    "    layers.experimental.preprocessing.RandomFlip(\"horizontal_and_vertical\"),\n",
    "    layers.experimental.preprocessing.RandomRotation(0.2),\n",
    "])"
   ]
  },
  {
   "cell_type": "code",
   "execution_count": 21,
   "id": "b03f8e35",
   "metadata": {},
   "outputs": [
    {
     "name": "stdout",
     "output_type": "stream",
     "text": [
      "WARNING:tensorflow:Layers in a Sequential model should only have a single input tensor. Received: inputs=(<tf.Tensor: shape=(32, 180, 180, 3), dtype=float32, numpy=\n",
      "array([[[[ 43.666664 ,  17.416666 ,  28.541666 ],\n",
      "         [ 46.5      ,  18.125    ,  29.       ],\n",
      "         [ 53.916664 ,  23.041666 ,  33.666664 ],\n",
      "         ...,\n",
      "         [100.708405 ,  46.12503  ,  61.666748 ],\n",
      "         [ 94.375    ,  42.625    ,  59.       ],\n",
      "         [ 88.00006  ,  39.416687 ,  56.166687 ]],\n",
      "\n",
      "        [[ 42.5      ,  21.125    ,  30.375    ],\n",
      "         [ 48.5      ,  21.375    ,  32.75     ],\n",
      "         [ 53.75     ,  23.75     ,  32.75     ],\n",
      "         ...,\n",
      "         [103.70828  ,  50.12497  ,  67.66681  ],\n",
      "         [ 98.75     ,  46.5      ,  63.375    ],\n",
      "         [ 93.54173  ,  44.541702 ,  60.791702 ]],\n",
      "\n",
      "        [[ 45.291668 ,  18.958332 ,  30.       ],\n",
      "         [ 51.25     ,  23.25     ,  34.5      ],\n",
      "         [ 58.25     ,  23.666668 ,  37.125    ],\n",
      "         ...,\n",
      "         [109.083496 ,  52.833313 ,  69.62503  ],\n",
      "         [105.5      ,  50.75     ,  69.25     ],\n",
      "         [ 92.37508  ,  40.50003  ,  57.75     ]],\n",
      "\n",
      "        ...,\n",
      "\n",
      "        [[ 66.79167  ,  29.875    ,  46.791668 ],\n",
      "         [ 62.25     ,  30.875    ,  46.25     ],\n",
      "         [ 61.666668 ,  29.916668 ,  44.958336 ],\n",
      "         ...,\n",
      "         [ 26.208282 ,  10.25     ,  19.37503  ],\n",
      "         [ 29.5      ,   9.5      ,  15.       ],\n",
      "         [ 29.583344 ,   9.       ,  14.458359 ]],\n",
      "\n",
      "        [[ 63.333336 ,  27.791668 ,  43.75     ],\n",
      "         [ 61.875    ,  30.875    ,  46.25     ],\n",
      "         [ 61.541664 ,  28.75     ,  45.333332 ],\n",
      "         ...,\n",
      "         [ 26.12503  ,  10.583435 ,  19.625153 ],\n",
      "         [ 30.25     ,   8.       ,  15.125    ],\n",
      "         [ 29.833344 ,  10.583313 ,  14.875015 ]],\n",
      "\n",
      "        [[ 63.083332 ,  31.5      ,  44.625    ],\n",
      "         [ 62.25     ,  29.75     ,  45.75     ],\n",
      "         [ 61.458336 ,  30.333334 ,  46.375    ],\n",
      "         ...,\n",
      "         [ 28.083252 ,   9.291718 ,  20.       ],\n",
      "         [ 28.625    ,   9.875    ,  15.875    ],\n",
      "         [ 30.583344 ,   8.       ,  15.458298 ]]],\n",
      "\n",
      "\n",
      "       [[[211.1      , 158.1      , 124.1      ],\n",
      "         [207.       , 157.       , 122.       ],\n",
      "         [214.3      , 161.2      , 127.2      ],\n",
      "         ...,\n",
      "         [229.91666  , 191.91666  , 154.91666  ],\n",
      "         [224.90999  , 186.90999  , 149.90999  ],\n",
      "         [222.       , 187.       , 147.       ]],\n",
      "\n",
      "        [[205.31     , 155.31     , 122.31     ],\n",
      "         [214.34     , 161.34     , 129.34     ],\n",
      "         [212.3      , 162.3      , 129.3      ],\n",
      "         ...,\n",
      "         [228.26651  , 190.26651  , 153.26651  ],\n",
      "         [226.20015  , 188.20015  , 151.20015  ],\n",
      "         [223.7332   , 185.7332   , 146.7332   ]],\n",
      "\n",
      "        [[212.51666  , 162.01666  , 130.01666  ],\n",
      "         [211.       , 163.5      , 130.       ],\n",
      "         [217.5      , 167.5      , 134.5      ],\n",
      "         ...,\n",
      "         [225.       , 188.5      , 151.       ],\n",
      "         [221.1997   , 186.45007  , 148.59985  ],\n",
      "         [223.0332   , 180.0664   , 137.5332   ]],\n",
      "\n",
      "        ...,\n",
      "\n",
      "        [[203.48334  , 136.       , 111.433334 ],\n",
      "         [205.55     , 138.05     , 113.55     ],\n",
      "         [206.41666  , 139.75     , 116.083336 ],\n",
      "         ...,\n",
      "         [222.24976  , 174.41675  , 128.5      ],\n",
      "         [223.45007  , 175.95007  , 128.95007  ],\n",
      "         [211.9502   , 160.0332   , 116.5      ]],\n",
      "\n",
      "        [[201.66661  , 133.66661  , 110.66662  ],\n",
      "         [202.9      , 135.9      , 109.899994 ],\n",
      "         [206.01682  , 138.01682  , 115.01681  ],\n",
      "         ...,\n",
      "         [223.4169   , 170.4169   , 126.4169   ],\n",
      "         [217.76984  , 168.76984  , 125.769844 ],\n",
      "         [205.05644  , 140.47627  , 104.76636  ]],\n",
      "\n",
      "        [[195.16342  , 127.16343  , 104.16343  ],\n",
      "         [197.9      , 129.9      , 106.899994 ],\n",
      "         [198.1001   , 134.1001   , 109.1001   ],\n",
      "         ...,\n",
      "         [220.7998   , 167.7998   , 125.799805 ],\n",
      "         [208.46864  , 150.55801  , 112.55826  ],\n",
      "         [207.74336  , 137.74336  , 103.74337  ]]],\n",
      "\n",
      "\n",
      "       [[[ 34.416668 ,  20.083334 ,  19.5      ],\n",
      "         [ 35.875    ,  18.375    ,  17.75     ],\n",
      "         [ 32.625    ,  17.       ,  17.375    ],\n",
      "         ...,\n",
      "         [ 40.00006  ,  19.500061 ,  20.708466 ],\n",
      "         [ 39.125    ,  19.75     ,  21.75     ],\n",
      "         [ 40.124985 ,  20.49997  ,  23.24997  ]],\n",
      "\n",
      "        [[ 36.666668 ,  20.041666 ,  17.75     ],\n",
      "         [ 32.       ,  19.       ,  17.375    ],\n",
      "         [ 30.5      ,  18.083334 ,  15.125    ],\n",
      "         ...,\n",
      "         [ 37.458282 ,  18.708221 ,  19.916687 ],\n",
      "         [ 38.625    ,  19.625    ,  22.75     ],\n",
      "         [ 39.333344 ,  20.74997  ,  21.625015 ]],\n",
      "\n",
      "        [[ 34.166668 ,  20.916666 ,  18.166666 ],\n",
      "         [ 33.875    ,  19.125    ,  17.25     ],\n",
      "         [ 33.125    ,  17.375    ,  17.875    ],\n",
      "         ...,\n",
      "         [ 38.541656 ,  16.958221 ,  21.37503  ],\n",
      "         [ 38.       ,  19.875    ,  22.625    ],\n",
      "         [ 40.583313 ,  20.374954 ,  21.833313 ]],\n",
      "\n",
      "        ...,\n",
      "\n",
      "        [[ 37.291664 ,  18.416668 ,  21.708334 ],\n",
      "         [ 34.75     ,  14.25     ,  19.25     ],\n",
      "         [ 31.416668 ,  15.083333 ,  17.791668 ],\n",
      "         ...,\n",
      "         [ 47.458405 ,  25.458344 ,  28.41687  ],\n",
      "         [ 47.       ,  24.25     ,  26.125    ],\n",
      "         [ 48.49997  ,  24.625015 ,  27.375015 ]],\n",
      "\n",
      "        [[ 37.833332 ,  16.666666 ,  22.333334 ],\n",
      "         [ 34.125    ,  16.5      ,  21.375    ],\n",
      "         [ 31.583334 ,  16.916666 ,  18.25     ],\n",
      "         ...,\n",
      "         [ 45.958282 ,  24.249939 ,  26.833313 ],\n",
      "         [ 45.375    ,  26.125    ,  25.75     ],\n",
      "         [ 45.79167  ,  25.791672 ,  25.666687 ]],\n",
      "\n",
      "        [[ 38.375    ,  18.208334 ,  23.166666 ],\n",
      "         [ 34.25     ,  17.       ,  23.       ],\n",
      "         [ 33.708332 ,  15.375    ,  17.875    ],\n",
      "         ...,\n",
      "         [ 48.166748 ,  23.708282 ,  26.083435 ],\n",
      "         [ 46.25     ,  24.875    ,  27.       ],\n",
      "         [ 47.70836  ,  23.083313 ,  27.       ]]],\n",
      "\n",
      "\n",
      "       ...,\n",
      "\n",
      "\n",
      "       [[[114.93667  ,  62.93667  ,  49.036667 ],\n",
      "         [114.100006 ,  65.100006 ,  49.989998 ],\n",
      "         [124.1      ,  73.       ,  51.9      ],\n",
      "         ...,\n",
      "         [ 86.249855 ,  48.249855 ,  39.249855 ],\n",
      "         [ 81.709984 ,  46.890015 ,  42.78003  ],\n",
      "         [ 72.09668  ,  45.09668  ,  38.09668  ]],\n",
      "\n",
      "        [[114.68     ,  60.98     ,  48.38     ],\n",
      "         [124.07001  ,  68.       ,  51.       ],\n",
      "         [126.41667  ,  74.41667  ,  53.416668 ],\n",
      "         ...,\n",
      "         [ 87.899994 ,  53.       ,  43.6      ],\n",
      "         [ 79.12981  ,  44.669895 ,  38.459766 ],\n",
      "         [ 75.       ,  45.       ,  37.       ]],\n",
      "\n",
      "        [[120.53333  ,  68.03333  ,  51.033333 ],\n",
      "         [123.       ,  63.550003 ,  47.65     ],\n",
      "         [125.75     ,  69.75     ,  50.75     ],\n",
      "         ...,\n",
      "         [ 91.166504 ,  55.666504 ,  42.666504 ],\n",
      "         [ 90.19971  ,  51.049927 ,  47.       ],\n",
      "         [ 79.950195 ,  45.950195 ,  40.450195 ]],\n",
      "\n",
      "        ...,\n",
      "\n",
      "        [[128.46666  ,  92.46667  ,  87.46667  ],\n",
      "         [135.1      ,  97.05     ,  89.05     ],\n",
      "         [134.25     , 106.25     ,  94.75     ],\n",
      "         ...,\n",
      "         [119.750244 ,  70.750244 ,  65.750244 ],\n",
      "         [108.       ,  64.04993  ,  57.       ],\n",
      "         [107.049805 ,  62.049805 ,  54.549805 ]],\n",
      "\n",
      "        [[123.63343  ,  88.733284 ,  80.63343  ],\n",
      "         [129.85997  ,  94.76995  ,  90.79996  ],\n",
      "         [139.69995  , 100.30005  , 100.69995  ],\n",
      "         ...,\n",
      "         [108.416595 ,  70.416595 ,  58.816494 ],\n",
      "         [106.02996  ,  63.02996  ,  54.02996  ],\n",
      "         [103.0332   ,  58.6333   ,  52.333252 ]],\n",
      "\n",
      "        [[125.8699   ,  81.8699   ,  78.8699   ],\n",
      "         [123.31021  ,  89.899994 ,  85.3001   ],\n",
      "         [133.       ,  98.       ,  92.       ],\n",
      "         ...,\n",
      "         [115.35003  ,  68.550224 ,  60.750423 ],\n",
      "         [106.1902   ,  63.009995 ,  57.100098 ],\n",
      "         [100.80362  ,  60.803616 ,  48.803616 ]]],\n",
      "\n",
      "\n",
      "       [[[ 20.       ,  13.       ,   7.       ],\n",
      "         [ 22.100002 ,  12.899998 ,   8.       ],\n",
      "         [ 23.       ,  12.       ,   8.       ],\n",
      "         ...,\n",
      "         [103.       ,  62.       ,  42.2      ],\n",
      "         [ 94.09985  ,  56.099854 ,  37.099854 ],\n",
      "         [ 89.029884 ,  52.029884 ,  33.029884 ]],\n",
      "\n",
      "        [[ 22.       ,  12.       ,  10.       ],\n",
      "         [ 23.100002 ,  13.899998 ,   9.       ],\n",
      "         [ 26.       ,  15.       ,   9.       ],\n",
      "         ...,\n",
      "         [103.       ,  65.       ,  42.       ],\n",
      "         [ 94.7      ,  56.7      ,  33.7      ],\n",
      "         [ 94.70996  ,  56.70996  ,  37.70996  ]],\n",
      "\n",
      "        [[ 23.5      ,  13.       ,  10.       ],\n",
      "         [ 25.       ,  14.899998 ,  10.449999 ],\n",
      "         [ 27.       ,  16.       ,  11.       ],\n",
      "         ...,\n",
      "         [105.5      ,  67.5      ,  44.5      ],\n",
      "         [102.04993  ,  64.04993  ,  42.049927 ],\n",
      "         [ 96.0166   ,  58.0166   ,  38.0166   ]],\n",
      "\n",
      "        ...,\n",
      "\n",
      "        [[ 53.5      ,  31.       ,  17.       ],\n",
      "         [ 55.600002 ,  29.5      ,  16.550001 ],\n",
      "         [ 57.5      ,  30.5      ,  18.       ],\n",
      "         ...,\n",
      "         [116.58325  ,  77.58325  ,  48.583252 ],\n",
      "         [109.95007  ,  70.54993  ,  45.       ],\n",
      "         [109.       ,  68.5      ,  41.5      ]],\n",
      "\n",
      "        [[ 54.       ,  28.       ,  15.       ],\n",
      "         [ 54.13001  ,  27.930004 ,  15.030005 ],\n",
      "         [ 56.       ,  30.       ,  17.       ],\n",
      "         ...,\n",
      "         [114.74991  ,  75.74991  ,  46.749912 ],\n",
      "         [108.06989  ,  71.129814 ,  44.099854 ],\n",
      "         [105.0332   ,  63.033203 ,  38.033203 ]],\n",
      "\n",
      "        [[ 52.       ,  29.       ,  15.       ],\n",
      "         [ 51.       ,  27.       ,  17.       ],\n",
      "         [ 53.01668  ,  27.016684 ,  14.016683 ],\n",
      "         ...,\n",
      "         [111.200195 ,  69.       ,  44.       ],\n",
      "         [110.       ,  69.       ,  41.       ],\n",
      "         [104.       ,  62.       ,  37.       ]]],\n",
      "\n",
      "\n",
      "       [[[ 23.791666 ,  11.333334 ,  17.333332 ],\n",
      "         [ 24.       ,  11.875    ,  17.25     ],\n",
      "         [ 23.375    ,  12.041667 ,  17.291666 ],\n",
      "         ...,\n",
      "         [ 36.041656 ,  17.041656 ,  21.791595 ],\n",
      "         [ 35.125    ,  17.375    ,  23.375    ],\n",
      "         [ 37.916687 ,  18.249939 ,  24.583313 ]],\n",
      "\n",
      "        [[ 24.666668 ,  12.125    ,  18.791668 ],\n",
      "         [ 25.       ,  13.375    ,  17.       ],\n",
      "         [ 23.375    ,  12.625    ,  14.       ],\n",
      "         ...,\n",
      "         [ 37.12503  ,  18.12503  ,  23.708344 ],\n",
      "         [ 35.75     ,  16.25     ,  22.625    ],\n",
      "         [ 35.333344 ,  16.666656 ,  22.708328 ]],\n",
      "\n",
      "        [[ 24.041666 ,  12.083333 ,  16.833332 ],\n",
      "         [ 23.125    ,  12.875    ,  14.       ],\n",
      "         [ 22.       ,  12.625    ,  14.874999 ],\n",
      "         ...,\n",
      "         [ 40.583374 ,  22.291718 ,  26.416626 ],\n",
      "         [ 35.       ,  18.25     ,  24.125    ],\n",
      "         [ 36.04167  ,  16.208359 ,  22.833344 ]],\n",
      "\n",
      "        ...,\n",
      "\n",
      "        [[ 39.666668 ,  18.666666 ,  25.666666 ],\n",
      "         [ 36.       ,  17.75     ,  23.75     ],\n",
      "         [ 35.291664 ,  17.041666 ,  21.791668 ],\n",
      "         ...,\n",
      "         [ 29.37503  ,  14.833435 ,  21.708282 ],\n",
      "         [ 28.375    ,  14.5      ,  15.875    ],\n",
      "         [ 32.79161  ,  14.541641 ,  20.541641 ]],\n",
      "\n",
      "        [[ 39.166668 ,  18.166666 ,  25.166666 ],\n",
      "         [ 37.875    ,  18.625    ,  24.75     ],\n",
      "         [ 33.25     ,  16.375    ,  21.75     ],\n",
      "         ...,\n",
      "         [ 24.833252 ,  13.25     ,  17.041595 ],\n",
      "         [ 28.875    ,  15.375    ,  18.625    ],\n",
      "         [ 32.70833  ,  14.291672 ,  18.416626 ]],\n",
      "\n",
      "        [[ 40.916668 ,  20.416666 ,  27.166666 ],\n",
      "         [ 38.625    ,  18.375    ,  25.       ],\n",
      "         [ 38.666664 ,  17.916668 ,  23.125    ],\n",
      "         ...,\n",
      "         [ 27.500061 ,  15.500061 ,  16.25     ],\n",
      "         [ 30.25     ,  15.25     ,  20.25     ],\n",
      "         [ 33.333252 ,  15.4166565,  21.24997  ]]]], dtype=float32)>, <tf.Tensor: shape=(32,), dtype=int32, numpy=\n",
      "array([5, 3, 1, 5, 3, 7, 2, 5, 1, 5, 7, 8, 3, 2, 5, 8, 6, 7, 3, 3, 4, 5,\n",
      "       4, 3, 1, 3, 3, 3, 7, 3, 3, 5])>). Consider rewriting this model with the Functional API.\n"
     ]
    },
    {
     "ename": "InvalidArgumentError",
     "evalue": "Exception encountered when calling layer \"random_flip_2\" \"                 f\"(type RandomFlip).\n\ncannot compute Pack as input #1(zero-based) was expected to be a float tensor but is a int32 tensor [Op:Pack] name: packed\n\nCall arguments received by layer \"random_flip_2\" \"                 f\"(type RandomFlip):\n  • inputs=('tf.Tensor(shape=(32, 180, 180, 3), dtype=float32)', 'tf.Tensor(shape=(32,), dtype=int32)')\n  • training=True",
     "output_type": "error",
     "traceback": [
      "\u001b[1;31m---------------------------------------------------------------------------\u001b[0m",
      "\u001b[1;31mInvalidArgumentError\u001b[0m                      Traceback (most recent call last)",
      "Input \u001b[1;32mIn [21]\u001b[0m, in \u001b[0;36m<cell line: 1>\u001b[1;34m()\u001b[0m\n\u001b[0;32m      1\u001b[0m \u001b[38;5;28;01mfor\u001b[39;00m img \u001b[38;5;129;01min\u001b[39;00m train_ds\u001b[38;5;241m.\u001b[39mtake(\u001b[38;5;241m1\u001b[39m):\n\u001b[1;32m----> 2\u001b[0m     aug_img \u001b[38;5;241m=\u001b[39m \u001b[43mdata_augmentation\u001b[49m\u001b[43m(\u001b[49m\u001b[43mimg\u001b[49m\u001b[43m)\u001b[49m\n",
      "File \u001b[1;32m~\\OneDrive\\Documents\\jup_env\\lib\\site-packages\\keras\\utils\\traceback_utils.py:70\u001b[0m, in \u001b[0;36mfilter_traceback.<locals>.error_handler\u001b[1;34m(*args, **kwargs)\u001b[0m\n\u001b[0;32m     67\u001b[0m     filtered_tb \u001b[38;5;241m=\u001b[39m _process_traceback_frames(e\u001b[38;5;241m.\u001b[39m__traceback__)\n\u001b[0;32m     68\u001b[0m     \u001b[38;5;66;03m# To get the full stack trace, call:\u001b[39;00m\n\u001b[0;32m     69\u001b[0m     \u001b[38;5;66;03m# `tf.debugging.disable_traceback_filtering()`\u001b[39;00m\n\u001b[1;32m---> 70\u001b[0m     \u001b[38;5;28;01mraise\u001b[39;00m e\u001b[38;5;241m.\u001b[39mwith_traceback(filtered_tb) \u001b[38;5;28;01mfrom\u001b[39;00m \u001b[38;5;28mNone\u001b[39m\n\u001b[0;32m     71\u001b[0m \u001b[38;5;28;01mfinally\u001b[39;00m:\n\u001b[0;32m     72\u001b[0m     \u001b[38;5;28;01mdel\u001b[39;00m filtered_tb\n",
      "File \u001b[1;32m~\\OneDrive\\Documents\\jup_env\\lib\\site-packages\\tensorflow\\python\\framework\\ops.py:7209\u001b[0m, in \u001b[0;36mraise_from_not_ok_status\u001b[1;34m(e, name)\u001b[0m\n\u001b[0;32m   7207\u001b[0m \u001b[38;5;28;01mdef\u001b[39;00m \u001b[38;5;21mraise_from_not_ok_status\u001b[39m(e, name):\n\u001b[0;32m   7208\u001b[0m   e\u001b[38;5;241m.\u001b[39mmessage \u001b[38;5;241m+\u001b[39m\u001b[38;5;241m=\u001b[39m (\u001b[38;5;124m\"\u001b[39m\u001b[38;5;124m name: \u001b[39m\u001b[38;5;124m\"\u001b[39m \u001b[38;5;241m+\u001b[39m name \u001b[38;5;28;01mif\u001b[39;00m name \u001b[38;5;129;01mis\u001b[39;00m \u001b[38;5;129;01mnot\u001b[39;00m \u001b[38;5;28;01mNone\u001b[39;00m \u001b[38;5;28;01melse\u001b[39;00m \u001b[38;5;124m\"\u001b[39m\u001b[38;5;124m\"\u001b[39m)\n\u001b[1;32m-> 7209\u001b[0m   \u001b[38;5;28;01mraise\u001b[39;00m core\u001b[38;5;241m.\u001b[39m_status_to_exception(e) \u001b[38;5;28;01mfrom\u001b[39;00m \u001b[38;5;28mNone\u001b[39m\n",
      "\u001b[1;31mInvalidArgumentError\u001b[0m: Exception encountered when calling layer \"random_flip_2\" \"                 f\"(type RandomFlip).\n\ncannot compute Pack as input #1(zero-based) was expected to be a float tensor but is a int32 tensor [Op:Pack] name: packed\n\nCall arguments received by layer \"random_flip_2\" \"                 f\"(type RandomFlip):\n  • inputs=('tf.Tensor(shape=(32, 180, 180, 3), dtype=float32)', 'tf.Tensor(shape=(32,), dtype=int32)')\n  • training=True"
     ]
    }
   ],
   "source": [
    "for img in train_ds.take(1):\n",
    "    aug_img = data_augmentation(img)"
   ]
  },
  {
   "cell_type": "code",
   "execution_count": 22,
   "id": "a1e4ccf0",
   "metadata": {},
   "outputs": [],
   "source": [
    "# resize_and_rescale = tf.keras.Sequential([\n",
    "#   layers.Resizing(180, 180),\n",
    "#   layers.Rescaling(1./255)\n",
    "# ])"
   ]
  },
  {
   "cell_type": "code",
   "execution_count": 34,
   "id": "f748019e",
   "metadata": {},
   "outputs": [],
   "source": [
    "model2 = tf.keras.Sequential([\n",
    "    data_augmentation,\n",
    "    layers.Rescaling(scale=1./255, input_shape=(180,180,3)),\n",
    "    layers.Conv2D(16, 3, padding='same', activation='relu'),\n",
    "    layers.Conv2D(32, 3, padding='same', activation='relu'),\n",
    "    layers.Conv2D(64, 3, padding='same', activation='relu'),\n",
    "    layers.Flatten(),\n",
    "    layers.Dense(128, activation='relu'),\n",
    "    layers.Dense(num_class)\n",
    "])"
   ]
  },
  {
   "cell_type": "code",
   "execution_count": 35,
   "id": "8e9d82b2",
   "metadata": {},
   "outputs": [],
   "source": [
    "model2.compile(optimizer='adam',\n",
    "              loss='sparse_categorical_crossentropy',\n",
    "              metrics=['accuracy'])"
   ]
  },
  {
   "cell_type": "code",
   "execution_count": null,
   "id": "26a2eb88",
   "metadata": {},
   "outputs": [],
   "source": []
  },
  {
   "cell_type": "code",
   "execution_count": 36,
   "id": "52e43076",
   "metadata": {},
   "outputs": [
    {
     "name": "stdout",
     "output_type": "stream",
     "text": [
      "Epoch 1/20\n",
      "WARNING:tensorflow:Using a while_loop for converting RngReadAndSkip cause there is no registered converter for this op.\n",
      "WARNING:tensorflow:Using a while_loop for converting Bitcast cause there is no registered converter for this op.\n",
      "WARNING:tensorflow:Using a while_loop for converting Bitcast cause there is no registered converter for this op.\n",
      "WARNING:tensorflow:Using a while_loop for converting StatelessRandomUniformV2 cause there is no registered converter for this op.\n",
      "WARNING:tensorflow:Using a while_loop for converting ImageProjectiveTransformV3 cause there is no registered converter for this op.\n",
      "WARNING:tensorflow:Using a while_loop for converting RngReadAndSkip cause there is no registered converter for this op.\n",
      "WARNING:tensorflow:Using a while_loop for converting Bitcast cause there is no registered converter for this op.\n",
      "WARNING:tensorflow:Using a while_loop for converting Bitcast cause there is no registered converter for this op.\n",
      "WARNING:tensorflow:Using a while_loop for converting StatelessRandomUniformV2 cause there is no registered converter for this op.\n",
      "WARNING:tensorflow:Using a while_loop for converting ImageProjectiveTransformV3 cause there is no registered converter for this op.\n",
      "WARNING:tensorflow:Using a while_loop for converting RngReadAndSkip cause there is no registered converter for this op.\n",
      "WARNING:tensorflow:Using a while_loop for converting Bitcast cause there is no registered converter for this op.\n",
      "WARNING:tensorflow:Using a while_loop for converting Bitcast cause there is no registered converter for this op.\n",
      "WARNING:tensorflow:Using a while_loop for converting StatelessRandomUniformV2 cause there is no registered converter for this op.\n",
      "WARNING:tensorflow:Using a while_loop for converting ImageProjectiveTransformV3 cause there is no registered converter for this op.\n",
      "56/56 [==============================] - 109s 2s/step - loss: 9.0781 - accuracy: 0.1708 - val_loss: 9.1096 - val_accuracy: 0.1499\n",
      "Epoch 2/20\n",
      "56/56 [==============================] - 103s 2s/step - loss: 8.9939 - accuracy: 0.1724 - val_loss: 9.1096 - val_accuracy: 0.1499\n",
      "Epoch 3/20\n",
      "56/56 [==============================] - 101s 2s/step - loss: 8.9939 - accuracy: 0.1724 - val_loss: 9.1096 - val_accuracy: 0.1499\n",
      "Epoch 4/20\n",
      "56/56 [==============================] - 98s 2s/step - loss: 8.9939 - accuracy: 0.1724 - val_loss: 9.1096 - val_accuracy: 0.1499\n",
      "Epoch 5/20\n",
      "56/56 [==============================] - 98s 2s/step - loss: 8.9939 - accuracy: 0.1724 - val_loss: 9.1096 - val_accuracy: 0.1499\n",
      "Epoch 6/20\n",
      "56/56 [==============================] - 103s 2s/step - loss: 8.9939 - accuracy: 0.1724 - val_loss: 9.1096 - val_accuracy: 0.1499\n",
      "Epoch 7/20\n",
      "56/56 [==============================] - 103s 2s/step - loss: 8.9939 - accuracy: 0.1724 - val_loss: 9.1096 - val_accuracy: 0.1499\n",
      "Epoch 8/20\n",
      "56/56 [==============================] - 102s 2s/step - loss: 8.9939 - accuracy: 0.1724 - val_loss: 9.1096 - val_accuracy: 0.1499\n",
      "Epoch 9/20\n",
      "56/56 [==============================] - 101s 2s/step - loss: 8.9939 - accuracy: 0.1724 - val_loss: 9.1096 - val_accuracy: 0.1499\n",
      "Epoch 10/20\n",
      "56/56 [==============================] - 98s 2s/step - loss: 8.9939 - accuracy: 0.1724 - val_loss: 9.1096 - val_accuracy: 0.1499\n",
      "Epoch 11/20\n",
      "56/56 [==============================] - 97s 2s/step - loss: 8.9939 - accuracy: 0.1724 - val_loss: 9.1096 - val_accuracy: 0.1499\n",
      "Epoch 12/20\n",
      "56/56 [==============================] - 96s 2s/step - loss: 8.9939 - accuracy: 0.1724 - val_loss: 9.1096 - val_accuracy: 0.1499\n",
      "Epoch 13/20\n",
      "56/56 [==============================] - 96s 2s/step - loss: 8.9939 - accuracy: 0.1724 - val_loss: 9.1096 - val_accuracy: 0.1499\n",
      "Epoch 14/20\n",
      "56/56 [==============================] - 95s 2s/step - loss: 8.9939 - accuracy: 0.1724 - val_loss: 9.1096 - val_accuracy: 0.1499\n",
      "Epoch 15/20\n",
      "56/56 [==============================] - 95s 2s/step - loss: 8.9939 - accuracy: 0.1724 - val_loss: 9.1096 - val_accuracy: 0.1499\n",
      "Epoch 16/20\n",
      "56/56 [==============================] - 96s 2s/step - loss: 8.9939 - accuracy: 0.1724 - val_loss: 9.1096 - val_accuracy: 0.1499\n",
      "Epoch 17/20\n",
      "56/56 [==============================] - 95s 2s/step - loss: 8.9939 - accuracy: 0.1724 - val_loss: 9.1096 - val_accuracy: 0.1499\n",
      "Epoch 18/20\n",
      "56/56 [==============================] - 95s 2s/step - loss: 8.9939 - accuracy: 0.1724 - val_loss: 9.1096 - val_accuracy: 0.1499\n",
      "Epoch 19/20\n",
      "56/56 [==============================] - 95s 2s/step - loss: 8.9939 - accuracy: 0.1724 - val_loss: 9.1096 - val_accuracy: 0.1499\n",
      "Epoch 20/20\n",
      "56/56 [==============================] - 95s 2s/step - loss: 8.9939 - accuracy: 0.1724 - val_loss: 9.1096 - val_accuracy: 0.1499\n"
     ]
    }
   ],
   "source": [
    "epochs = 20\n",
    "history = model2.fit(\n",
    "    train_ds,\n",
    "    validation_data=val_ds,\n",
    "    epochs=epochs)"
   ]
  },
  {
   "cell_type": "code",
   "execution_count": 38,
   "id": "dac1e1f5",
   "metadata": {},
   "outputs": [
    {
     "data": {
      "image/png": "[encoded data removed]",
      "text/plain": [
       "<Figure size 576x576 with 2 Axes>"
      ]
     },
     "metadata": {
      "needs_background": "light"
     },
     "output_type": "display_data"
    }
   ],
   "source": [
    "acc = history.history['accuracy']\n",
    "val_acc = history.history['val_accuracy']\n",
    "\n",
    "loss = history.history['loss']\n",
    "val_loss = history.history['val_loss']\n",
    "\n",
    "epochs_range = range(epochs)\n",
    "\n",
    "plt.figure(figsize=(8, 8))\n",
    "plt.subplot(1, 2, 1)\n",
    "plt.plot(epochs_range, acc, label='Training Accuracy')\n",
    "plt.plot(epochs_range, val_acc, label='Validation Accuracy')\n",
    "plt.legend(loc='lower right')\n",
    "plt.title('Training and Validation Accuracy')\n",
    "\n",
    "plt.subplot(1, 2, 2)\n",
    "plt.plot(epochs_range, loss, label='Training Loss')\n",
    "plt.plot(epochs_range, val_loss, label='Validation Loss')\n",
    "plt.legend(loc='upper right')\n",
    "plt.title('Training and Validation Loss')\n",
    "plt.show()"
   ]
  },
  {
   "cell_type": "code",
   "execution_count": 96,
   "id": "796a3c47",
   "metadata": {},
   "outputs": [
    {
     "name": "stdout",
     "output_type": "stream",
     "text": [
      "filepath C:\\Users\\chaih\\OneDrive\\Documents\\UpGrad\\inputs\\CNN\\CNN_assignment\\Skin_cancer_Skin_Imaging\\Train\\actinic keratosis\\ISIC_0025780.jpg\n",
      "file ISIC_0025780.jpg\n",
      "Insufficient rights to read or write output directory (C:\\Users\\chaih\\OneDrive\\Documents\\UpGrad\\inputs\\CNN\\CNN_assignment\\Skin_cancer_Skin_Imaging\\Train\\actinic keratosis\\ISIC_0025780.jpg\\output)\n",
      "Initialised with 0 image(s) found.\n",
      "Output directory set to C:\\Users\\chaih\\OneDrive\\Documents\\UpGrad\\inputs\\CNN\\CNN_assignment\\Skin_cancer_Skin_Imaging\\Train\\actinic keratosis\\ISIC_0025780.jpg\\output."
     ]
    },
    {
     "ename": "IndexError",
     "evalue": "There are no images in the pipeline. Add a directory using add_directory(), pointing it to a directory containing images.",
     "output_type": "error",
     "traceback": [
      "\u001b[1;31m---------------------------------------------------------------------------\u001b[0m",
      "\u001b[1;31mIndexError\u001b[0m                                Traceback (most recent call last)",
      "Input \u001b[1;32mIn [96]\u001b[0m, in \u001b[0;36m<cell line: 21>\u001b[1;34m()\u001b[0m\n\u001b[0;32m     28\u001b[0m p \u001b[38;5;241m=\u001b[39m Augmentor\u001b[38;5;241m.\u001b[39mPipeline(filepath)\n\u001b[0;32m     29\u001b[0m p\u001b[38;5;241m.\u001b[39mrotate(probability\u001b[38;5;241m=\u001b[39m\u001b[38;5;241m0.7\u001b[39m, max_left_rotation\u001b[38;5;241m=\u001b[39m\u001b[38;5;241m10\u001b[39m, max_right_rotation\u001b[38;5;241m=\u001b[39m\u001b[38;5;241m10\u001b[39m)\n\u001b[1;32m---> 30\u001b[0m \u001b[43mp\u001b[49m\u001b[38;5;241;43m.\u001b[39;49m\u001b[43msample\u001b[49m\u001b[43m(\u001b[49m\u001b[38;5;241;43m500\u001b[39;49m\u001b[43m)\u001b[49m\n",
      "File \u001b[1;32m~\\OneDrive\\Documents\\jup_env\\lib\\site-packages\\Augmentor\\Pipeline.py:348\u001b[0m, in \u001b[0;36mPipeline.sample\u001b[1;34m(self, n, multi_threaded)\u001b[0m\n\u001b[0;32m    327\u001b[0m \u001b[38;5;124;03m\"\"\"\u001b[39;00m\n\u001b[0;32m    328\u001b[0m \u001b[38;5;124;03mGenerate :attr:`n` number of samples from the current pipeline.\u001b[39;00m\n\u001b[0;32m    329\u001b[0m \n\u001b[1;32m   (...)\u001b[0m\n\u001b[0;32m    345\u001b[0m \u001b[38;5;124;03m:return: None\u001b[39;00m\n\u001b[0;32m    346\u001b[0m \u001b[38;5;124;03m\"\"\"\u001b[39;00m\n\u001b[0;32m    347\u001b[0m \u001b[38;5;28;01mif\u001b[39;00m \u001b[38;5;28mlen\u001b[39m(\u001b[38;5;28mself\u001b[39m\u001b[38;5;241m.\u001b[39maugmentor_images) \u001b[38;5;241m==\u001b[39m \u001b[38;5;241m0\u001b[39m:\n\u001b[1;32m--> 348\u001b[0m     \u001b[38;5;28;01mraise\u001b[39;00m \u001b[38;5;167;01mIndexError\u001b[39;00m(\u001b[38;5;124m\"\u001b[39m\u001b[38;5;124mThere are no images in the pipeline. \u001b[39m\u001b[38;5;124m\"\u001b[39m\n\u001b[0;32m    349\u001b[0m                      \u001b[38;5;124m\"\u001b[39m\u001b[38;5;124mAdd a directory using add_directory(), \u001b[39m\u001b[38;5;124m\"\u001b[39m\n\u001b[0;32m    350\u001b[0m                      \u001b[38;5;124m\"\u001b[39m\u001b[38;5;124mpointing it to a directory containing images.\u001b[39m\u001b[38;5;124m\"\u001b[39m)\n\u001b[0;32m    352\u001b[0m \u001b[38;5;28;01mif\u001b[39;00m \u001b[38;5;28mlen\u001b[39m(\u001b[38;5;28mself\u001b[39m\u001b[38;5;241m.\u001b[39moperations) \u001b[38;5;241m==\u001b[39m \u001b[38;5;241m0\u001b[39m:\n\u001b[0;32m    353\u001b[0m     \u001b[38;5;28;01mraise\u001b[39;00m \u001b[38;5;167;01mIndexError\u001b[39;00m(\u001b[38;5;124m\"\u001b[39m\u001b[38;5;124mThere are no operations associated with this pipeline.\u001b[39m\u001b[38;5;124m\"\u001b[39m)\n",
      "\u001b[1;31mIndexError\u001b[0m: There are no images in the pipeline. Add a directory using add_directory(), pointing it to a directory containing images."
     ]
    }
   ],
   "source": [
    "import glob\n",
    "\n",
    "import os\n",
    "\n",
    "rootdir = os.getcwd()\n",
    "\n",
    "# for subdir, dirs, files in os.walk(r\"C:\\Users\\chaih\\OneDrive\\Documents\\UpGrad\\inputs\\CNN\\CNN_assignment\\Skin_cancer_Skin_Imaging\\Train\"):\n",
    "#     for file in files:\n",
    "#         filepath = subdir + os.sep + file\n",
    "#         if filepath.endswith(\".jpg\"):\n",
    "#             print (filepath)\n",
    "            \n",
    "            \n",
    "path_to_training_dataset=r\"C:\\Users\\chaih\\OneDrive\\Documents\\UpGrad\\inputs\\CNN\\CNN_assignment\\Skin_cancer_Skin_Imaging\\Train\"\n",
    "# for filename in glob.iglob(path_to_training_dataset,recursive=True):\n",
    "# #     print(filename)\n",
    "#     for filename in glob.iglob(path_to_training_dataset+filename,recursive=True):\n",
    "#         print(filename)\n",
    "\n",
    "import Augmentor\n",
    "for subdir, dirs, files in os.walk(r\"C:\\Users\\chaih\\OneDrive\\Documents\\UpGrad\\inputs\\CNN\\CNN_assignment\\Skin_cancer_Skin_Imaging\\Train\"):\n",
    "    for file in files:\n",
    "        filepath = subdir + os.sep + file\n",
    "        print(\"filepath\", filepath)\n",
    "        print(\"file\", file)\n",
    "\n",
    "        if filepath.endswith(\".jpg\"):\n",
    "            p = Augmentor.Pipeline(filepath)\n",
    "            p.rotate(probability=0.7, max_left_rotation=10, max_right_rotation=10)\n",
    "            p.sample(500)"
   ]
  },
  {
   "cell_type": "code",
   "execution_count": null,
   "id": "34dfd3ce",
   "metadata": {},
   "outputs": [],
   "source": [
    "image_count_train = len(list(data_dir_train.glob('*/output/*.jpg')))\n",
    "print(image_count_train)"
   ]
  },
  {
   "cell_type": "code",
   "execution_count": null,
   "id": "32cb42ae",
   "metadata": {},
   "outputs": [],
   "source": [
    "path_list = [x for x in glob(os.path.join(data_dir_train, '*','output', '*.jpg'))]\n",
    "path_list"
   ]
  },
  {
   "cell_type": "code",
   "execution_count": null,
   "id": "ef226073",
   "metadata": {},
   "outputs": [],
   "source": [
    "lesion_list_new = [os.path.basename(os.path.dirname(os.path.dirname(y))) for y in glob(os.path.join(data_dir_train, '*','output', '*.jpg'))]\n",
    "lesion_list_new"
   ]
  },
  {
   "cell_type": "code",
   "execution_count": null,
   "id": "efe46087",
   "metadata": {},
   "outputs": [],
   "source": [
    "dataframe_dict_new = dict(zip(path_list_new, lesion_list_new))\n"
   ]
  },
  {
   "cell_type": "code",
   "execution_count": null,
   "id": "9bed90e8",
   "metadata": {},
   "outputs": [],
   "source": [
    "df2 = pd.DataFrame(list(dataframe_dict_new.items()),columns = ['Path','Label'])\n",
    "new_df = original_df.append(df2)"
   ]
  },
  {
   "cell_type": "code",
   "execution_count": null,
   "id": "8a633642",
   "metadata": {},
   "outputs": [],
   "source": [
    "new_df['Label'].value_counts()\n"
   ]
  },
  {
   "cell_type": "code",
   "execution_count": null,
   "id": "ae60556c",
   "metadata": {},
   "outputs": [],
   "source": [
    "data_dir_train=\"C:\\Users\\chaih\\OneDrive\\Documents\\UpGrad\\inputs\\CNN\\CNN_assignment\\Skin cancer ISIC The International Skin Imaging Collaboration\\Train\"\n",
    "train_ds = tf.keras.preprocessing.image_dataset_from_directory(\n",
    "  data_dir_train,\n",
    "  seed=123,\n",
    "  validation_split = 0.2,\n",
    "  subset = ## Todo choose the correct parameter value, so that only training data is refered to,,\n",
    "  image_size=(img_height, img_width),\n",
    "  batch_size=batch_size)"
   ]
  },
  {
   "cell_type": "code",
   "execution_count": null,
   "id": "143ef98d",
   "metadata": {},
   "outputs": [],
   "source": [
    "val_ds = tf.keras.preprocessing.image_dataset_from_directory(\n",
    "  data_dir_train,\n",
    "  seed=123,\n",
    "  validation_split = 0.2,\n",
    "  subset = ## Todo choose the correct parameter value, so that only validation data is refered to,\n",
    "  image_size=(img_height, img_width),\n",
    "  batch_size=batch_size)"
   ]
  },
  {
   "cell_type": "code",
   "execution_count": null,
   "id": "4b718402",
   "metadata": {},
   "outputs": [],
   "source": [
    "model3 = Sequential([\n",
    "    layers.Conv2D(16, 3, padding='same', activation='relu'),\n",
    "    layers.Conv2D(32, 3, padding='same', activation='relu'),\n",
    "    layers.Conv2D(64, 3, padding='same', activation='relu'),\n",
    "    layers.Flatten(),\n",
    "    layers.Dense(128, activation='relu'),\n",
    "    layers.Dense(num_class)\n",
    "])"
   ]
  },
  {
   "cell_type": "code",
   "execution_count": null,
   "id": "20a4591f",
   "metadata": {},
   "outputs": [],
   "source": [
    "model3.compile(optimizer='adam',\n",
    "              loss='sparse_categorical_crossentropy',\n",
    "              metrics=['accuracy'])"
   ]
  },
  {
   "cell_type": "code",
   "execution_count": null,
   "id": "d33f0e29",
   "metadata": {},
   "outputs": [],
   "source": [
    "epochs = 20\n",
    "history = model3.fit(\n",
    "    train_ds,\n",
    "    validation_data=val_ds,\n",
    "    epochs=epochs)"
   ]
  }
 ],
 "metadata": {
  "kernelspec": {
   "display_name": "Python 3 (ipykernel)",
   "language": "python",
   "name": "python3"
  },
  "language_info": {
   "codemirror_mode": {
    "name": "ipython",
    "version": 3
   },
   "file_extension": ".py",
   "mimetype": "text/x-python",
   "name": "python",
   "nbconvert_exporter": "python",
   "pygments_lexer": "ipython3",
   "version": "3.8.8rc1"
  }
 },
 "nbformat": 4,
 "nbformat_minor": 5
}
